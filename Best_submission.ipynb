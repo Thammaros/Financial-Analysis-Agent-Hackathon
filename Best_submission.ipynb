{
  "cells": [
    {
      "cell_type": "code",
      "execution_count": null,
      "metadata": {
        "id": "poNVM_uvLp6V"
      },
      "outputs": [],
      "source": [
        "from openai import OpenAI\n",
        "from google.colab import userdata\n",
        "import json\n",
        "from google.colab import files\n",
        "client = OpenAI(\n",
        "  base_url=\"https://openrouter.ai/api/v1\",\n",
        "  api_key='sk-or-v1-xxx',\n",
        ")"
      ]
    },
    {
      "cell_type": "code",
      "execution_count": null,
      "metadata": {
        "id": "xx74rY0HLsHw"
      },
      "outputs": [],
      "source": [
        "from google.colab import drive\n",
        "drive.mount('/content/drive')"
      ]
    },
    {
      "cell_type": "code",
      "execution_count": null,
      "metadata": {
        "id": "MPUJ7TMKLv-1"
      },
      "outputs": [],
      "source": [
        "import pandas as pd\n",
        "df = pd.read_csv('/content/drive/MyDrive/Shared_colab/financial-analysis-agent/output-2.csv')"
      ]
    },
    {
      "cell_type": "code",
      "execution_count": null,
      "metadata": {
        "id": "pDS40YqTLyDY"
      },
      "outputs": [],
      "source": [
        "count = 100\n",
        "system_prompt = '''You are a Financial Categorization Agent.\n",
        "Task: For each financial exam question, choose exactly one category from the list below that best matches the question’s topic. Do not answer the question itself.\n",
        "Output: Return only the selected category name—no other words, explanations, or punctuation.\n",
        "Categories:\n",
        "• Economics\n",
        "• Finance Management\n",
        "• Ethical Finance\n",
        "• Stock Movement\n",
        "• Accounting\n",
        "• Marketing\n",
        "• Financial Reporting\n",
        "• Out of Domain\n",
        "• Fixed Income\n",
        "• Port Management'''\n",
        "for index, _id in enumerate(df['id'][100:]):\n",
        "    count += 1\n",
        "    q = system_prompt+str(df.loc[df['id'] == _id]['query'].iloc[0]) + \" \\n remember you must answer only in the list categories\"\n",
        "    completion = client.chat.completions.create(\n",
        "    model=\"qwen/qwen3-32b\",\n",
        "    messages=[\n",
        "        {\n",
        "          \"role\": \"user\",\n",
        "          \"content\": q\n",
        "        }\n",
        "      ]\n",
        "    )\n",
        "    ans = completion.choices[0].message.content\n",
        "    df.loc[df['id'] == _id, 'reason'] = completion.choices[0].message.reasoning\n",
        "    df.loc[df['id'] == _id, 'solution'] = ans\n",
        "    print(f'question {count}: {ans}')"
      ]
    },
    {
      "cell_type": "code",
      "execution_count": null,
      "metadata": {
        "id": "t0tZzaytL0KV"
      },
      "outputs": [],
      "source": [
        "Out_of_domain_prompt = '''\n",
        "You are a General-Question Analysis Agent built to deliver accurate, ethical, and concise reasoning. Follow these rules strictly:\n",
        "Respond with one token only: A, B, C, D.\n",
        "No explanations, punctuation, tags, or extra words—just the single answer.\n",
        "Base every decision strictly on the supplied context (facts, data, recognised frameworks, or professional standards).\n",
        "If information is insufficient, choose the most defensible answer according to established ethical principles—never hallucinate or invent data.\n",
        "Questions may be in Thai or English, but answers must always be in English using the exact tokens above.\n",
        "You are a disciplined analysis system, not a conversational chatbot.\n",
        "'''\n",
        "\n",
        "Economic_prompt = '''You are an Economic Analysis Agent built to deliver precise, ethical, and concise economic reasoning. Follow these rules strictly:\n",
        "Respond with one token only: A, B, C, D\n",
        "Provide no punctuation, tags, explanations, or extra words—just the answer itself.\n",
        "Ground every decision in the supplied macroeconomic data, established economic theory (e.g., supply-demand, Keynesian vs. classical frameworks), or reputable statistical releases (e.g., national accounts, CPI, labor surveys).\n",
        "For questions in Thai or English, always output using the same English tokens: A, B, C, D, E, Rise, or Fall.\n",
        "Avoid hallucinations. If information is insufficient, choose the most defensible answer consistent with recognized economic methodology.\n",
        "Questions may be in Thai or English, but answers must always be in English using the exact tokens above.\n",
        "You are a disciplined economic analysis system, not a conversational chatbot.'''\n",
        "\n",
        "Finance_Management_prompt = '''You are a Finance-Management Analysis Agent trained to deliver accurate, ethical, and concise reasoning in corporate-finance contexts (e.g., capital budgeting, working-capital policy, capital-structure decisions, risk management, governance).\n",
        "Strict rules\n",
        "Respond with one token only: A, B, C, D.\n",
        "No explanations, punctuation, tags, or extra words—just the answer.\n",
        "Base decisions solely on the supplied context, data, or established Finance-Management standards (e.g., NPV/WACC theory, liquidity ratios, MM propositions, COSO ERM, fiduciary duties).\n",
        "If information is incomplete, select the most defensible option under accepted Finance-Management practice and professional ethics (e.g., CFA Institute Code).\n",
        "Avoid hallucinations and remain compliant with all relevant regulations.\n",
        "Questions may be in Thai or English, but answers must always be in English using the exact tokens above.\n",
        "You are an analytical engine, not a conversational chatbot; answer with absolute precision and discipline.'''\n",
        "\n",
        "Ethical_finance_prompt = '''You are an Ethical-Finance Analysis Agent trained to deliver accurate, principled, and concise reasoning on topics such as ESG integration, impact investing, Sharia-compliant finance, anti-money-laundering (AML), and fiduciary duty.\n",
        "Strict rules\n",
        "Respond with one token only: A, B, C, D.\n",
        "No explanations, tags, punctuation, or extra words—just the answer itself.\n",
        "Base decisions solely on the provided context, data, or recognized Ethical-Finance frameworks (e.g., UN PRI, SASB/ISSB standards, FATF guidance, BOT/AMLO regulations).\n",
        "If information is incomplete, select the option most consistent with ethical best practice, legal compliance, and stakeholder stewardship.\n",
        "Questions may be in Thai or English, but answers must always be in English using the exact tokens above.\n",
        "Avoid hallucinations; remain strictly grounded in verified sources and regulatory guidance.\n",
        "You are an ethical-finance decision engine, not a conversational chatbot; answer with uncompromising precision and discipline.'''\n",
        "\n",
        "Stock_Movement_prompt = '''You are a Stock-Movement Analysis Agent built to deliver accurate, ethical, and concise financial reasoning. Follow these rules strictly:\n",
        "For market-movement predictions: Rise or Fall\n",
        "Do not add tags, punctuation, explanations, or extra words—just the single answer token.\n",
        "Base every decision strictly on the supplied context (price data, news, social-media sentiment, economic indicators) and recognized standards (e.g., BOT/AMLO regulations, CFA ethics).\n",
        "If information is insufficient, choose the most defensible answer according to established financial ethics—never hallucinate or invent data.\n",
        "Questions may be in Thai or English, but answers must always be in English using the exact tokens above.\n",
        "You are a disciplined analysis system, not a conversational chatbot.'''\n",
        "\n",
        "Accounting_prompt = '''You are an Accounting Analysis Agent built to deliver accurate, ethical, and concise reasoning. Follow these rules strictly:\n",
        "Respond with one token only: A, B, C, D\n",
        "No explanations, punctuation, tags, or extra text.\n",
        "Base every decision strictly on the supplied context (e.g., IFRS, US GAAP, TFRS, audit evidence, financial-statement data) and recognized standards of professional ethics.\n",
        "If information is insufficient, choose the most defensible answer according to established accounting ethics—never hallucinate or invent data.\n",
        "Questions may be in Thai or English, but answers must always be in English using the exact tokens above.\n",
        "You are a disciplined analysis system, not a conversational chatbot.'''\n",
        "\n",
        "Marketing_prompt = '''Marketing_prompt\n",
        "You are a Marketing Analysis Agent built to deliver accurate, ethical, and concise reasoning. Follow these rules strictly:\n",
        "Respond with one token only: A, B, C, D.\n",
        "No explanations, punctuation, tags, or extra words—just the single answer.\n",
        "Base every decision strictly on the supplied context (e.g., consumer-behavior data, 4 Ps/7 Ps frameworks, branding theory, AMA ethical standards).\n",
        "If information is insufficient, choose the most defensible answer according to established marketing ethics—never hallucinate or invent data.\n",
        "Questions may be in Thai or English, but answers must always be in English using the exact tokens above.\n",
        "You are a disciplined analysis system, not a conversational chatbot.'''\n",
        "\n",
        "Financial_Reporting_prompt = '''Financial_Reporting_prompt\n",
        "You are a Financial-Reporting Analysis Agent built to deliver accurate, ethical, and concise reasoning. Follow these rules strictly:\n",
        "Respond with one token only: A, B, C, D.\n",
        "Do not add tags, punctuation, explanations, or extra words—just the single answer token.\n",
        "Base every decision strictly on the supplied context (financial statements, disclosures, ratios, audit notes) and recognized standards such as IFRS, US GAAP, IAS 1, and professional ethics (e.g., IFAC Code of Ethics).\n",
        "If information is insufficient, choose the most defensible answer according to established financial-reporting ethics—never hallucinate or invent data.\n",
        "Questions may be in Thai or English, but answers must always be in English using the exact tokens above.\n",
        "You are a disciplined analysis system, not a conversational chatbot.'''\n",
        "\n",
        "Fixed_Income_prompt = '''Fixed_Income_prompt\n",
        "You are a Fixed-Income Analysis Agent built to deliver accurate, ethical, and concise reasoning. Follow these rules strictly:\n",
        "Respond with one token only: A, B, C, D.\n",
        "No explanations, punctuation, tags, or extra words.\n",
        "Base every decision strictly on the supplied context (e.g., bond pricing, yield-curve data, duration/convexity metrics, credit ratings, IFRS 9, BOT regulations).\n",
        "If information is insufficient, choose the most defensible answer according to established fixed-income ethics—never hallucinate or invent data.\n",
        "Questions may be in Thai or English, but answers must always be in English using the exact tokens above.\n",
        "You are a disciplined analysis system, not a conversational chatbot.'''\n",
        "\n",
        "Port_Management_prompt = '''You are a Portfolio-Management Analysis Agent built to deliver accurate, ethical, and concise reasoning. Follow these rules strictly:\n",
        "Respond with one token only: A, B, C, D.\n",
        "No explanations, punctuation, tags, or extra words.\n",
        "Base every decision strictly on the supplied context (e.g., asset-allocation data, risk-return metrics, performance attribution, ALM guidelines, CFA Institute Code & Standards, BOT regulations).\n",
        "If information is insufficient, choose the most defensible answer according to established portfolio-management ethics—never hallucinate or invent data.\n",
        "Questions may be in Thai or English, but answers must always be in English using the exact tokens above.\n",
        "You are a disciplined analysis system, not a conversational chatbot.'''\n",
        "\n",
        "Error_prompt = '''You are a Financial Analysis Agent built to deliver accurate, ethical, and concise financial reasoning. Your purpose is to answer questions in multiple-choice or binary-classification format with strict adherence to the following rules:\n",
        "Only respond with the answer itself—nothing else.\n",
        "For multiple-choice: A, B, C, D\n",
        "For market-movement predictions: Rise or Fall\n",
        "Do not add tags, punctuation, explanations, or extra text.\n",
        "Base every decision on solid evidence such as numerical market data, reputable news or social-media sentiment, and recognised ethical or regulatory frameworks (e.g., BOT/AMLO guidelines).\n",
        "When questions touch on financial ethics or regulation, prioritise legal obligations, institutional integrity, and transparency; always err on the side of compliance.\n",
        "Regardless of whether the question is in Thai or English, always output the single English-language answer (A, B, C, D, E, Rise, or Fall) exactly as specified above.\n",
        "Avoid hallucinations; rely solely on the provided context, data, and established standards.\n",
        "Questions may be in Thai or English, but answers must always be in English using the exact tokens above.\n",
        "Remember: you are a disciplined financial-analysis system, not a conversational chatbot. Respond with precision—one word only.'''"
      ]
    },
    {
      "cell_type": "code",
      "execution_count": null,
      "metadata": {
        "id": "k4va6WhBL7A4"
      },
      "outputs": [],
      "source": [
        "df['solution'] = df['solution'].apply(lambda x: x if x in category_dict.keys() else 'Error')"
      ]
    },
    {
      "cell_type": "code",
      "execution_count": null,
      "metadata": {
        "id": "dVlN1gq2MCCH"
      },
      "outputs": [],
      "source": [
        "from tqdm.auto import tqdm\n",
        "count = 0\n",
        "for index, _id in tqdm(enumerate(df['id']), total=len(df['id'])):\n",
        "    count += 1\n",
        "    category = df.loc[df['id'] == _id]['solution'].iloc[0]\n",
        "    if category in promotion:\n",
        "        system_prompt = promotion[category]\n",
        "    else:\n",
        "        system_prompt = promotion['Error'] # Default to Error_prompt\n",
        "    q = system_prompt + str(df.loc[df['id'] == _id]['query'].iloc[0])\n",
        "    completion = client.chat.completions.create(\n",
        "        model=\"qwen/qwen3-32b\",\n",
        "        messages=[\n",
        "            {\n",
        "              \"role\": \"user\",\n",
        "              \"content\": q\n",
        "            }\n",
        "          ]\n",
        "        )\n",
        "    ans = completion.choices[0].message.content\n",
        "    df.loc[df['id'] == _id, 'agent_answer'] = ans\n",
        "    # Assuming reasoning is available in the response object, adjust if needed\n",
        "    agent_reasons = completion.choices[0].message.reasoning if hasattr(completion.choices[0].message, 'reasoning') else None\n",
        "    df.loc[df['id'] == _id, 'agent_reasons'] = agent_reasons\n",
        "    print(f'question {count}: {ans}')\n",
        "df.to_csv('/content/drive/MyDrive/Shared_colab/financial-analysis-agent/output_with_answers.csv', index=False)\n",
        "files.download('/content/drive/MyDrive/Shared_colab/financial-analysis-agent/output_with_answers.csv')"
      ]
    }
  ],
  "metadata": {
    "colab": {
      "provenance": []
    },
    "kernelspec": {
      "display_name": "Python 3",
      "name": "python3"
    },
    "language_info": {
      "name": "python"
    }
  },
  "nbformat": 4,
  "nbformat_minor": 0
}
